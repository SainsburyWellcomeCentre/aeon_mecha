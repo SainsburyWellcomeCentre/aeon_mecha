{
 "cells": [
  {
   "cell_type": "code",
   "execution_count": null,
   "id": "b18d8c4a",
   "metadata": {},
   "outputs": [],
   "source": [
    "cd ../../../.."
   ]
  },
  {
   "cell_type": "code",
   "execution_count": null,
   "id": "b9db4795",
   "metadata": {},
   "outputs": [],
   "source": [
    "import datajoint as dj"
   ]
  },
  {
   "cell_type": "code",
   "execution_count": null,
   "id": "571c2760",
   "metadata": {},
   "outputs": [],
   "source": [
    "_db_prefix = 'aeon_'\n",
    "\n",
    "streams = dj.create_virtual_module(\"streams\", _db_prefix + \"streams\")\n",
    "tracking = dj.create_virtual_module(\"tracking\", _db_prefix + \"tracking\")\n",
    "analysis = dj.create_virtual_module(\"analysis\", _db_prefix + \"analysis\")\n",
    "block_analysis = dj.create_virtual_module(\"block_analysis\", _db_prefix + \"block_analysis\")\n",
    "subject = dj.create_virtual_module(\"subject\", _db_prefix + \"subject\")\n",
    "lab = dj.create_virtual_module(\"lab\", _db_prefix + \"lab\")\n",
    "acquisition = dj.create_virtual_module(\"acquisition\", _db_prefix + \"acquisition\")\n",
    "qc = dj.create_virtual_module(\"qc\", _db_prefix + \"qc\")\n"
   ]
  },
  {
   "cell_type": "code",
   "execution_count": null,
   "id": "bcf4bd2e",
   "metadata": {},
   "outputs": [],
   "source": [
    "streams.schema.spawn_missing_classes()\n",
    "tracking.schema.spawn_missing_classes()\n",
    "analysis.schema.spawn_missing_classes()\n",
    "block_analysis.schema.spawn_missing_classes()\n",
    "subject.schema.spawn_missing_classes()\n",
    "lab.schema.spawn_missing_classes()\n",
    "acquisition.schema.spawn_missing_classes()\n",
    "qc.schema.spawn_missing_classes()"
   ]
  },
  {
   "cell_type": "markdown",
   "id": "6d318782",
   "metadata": {},
   "source": [
    "# High level diagram"
   ]
  },
  {
   "cell_type": "code",
   "execution_count": null,
   "id": "6e9442ac",
   "metadata": {},
   "outputs": [],
   "source": [
    "# `acquisition`-related tasks\n",
    "acquisition_diagram = (\n",
    "    dj.Diagram(acquisition.Experiment) +\n",
    "    dj.Diagram(acquisition.ExperimentCamera) +\n",
    "    dj.Diagram(acquisition.Epoch) +\n",
    "    dj.Diagram(acquisition.Chunk) +\n",
    "    dj.Diagram(acquisition.EventType) +\n",
    "    dj.Diagram(acquisition.Environment) +\n",
    "    dj.Diagram(block_analysis.BlockDetection)\n",
    ") - 1\n",
    "\n",
    "acquisition_diagram"
   ]
  },
  {
   "cell_type": "code",
   "execution_count": null,
   "id": "0600b4b7",
   "metadata": {},
   "outputs": [],
   "source": [
    "acquisition_diagram.save(\"aeon/dj_pipeline/docs/datajoint_overview_acquisition_related_diagram.svg\")"
   ]
  },
  {
   "cell_type": "code",
   "execution_count": null,
   "id": "aea37324",
   "metadata": {},
   "outputs": [],
   "source": [
    "# data streams\n",
    "\n",
    "data_stream_diagram = (\n",
    "    dj.Diagram(subject.SubjectDetail) + \n",
    "    dj.Diagram(subject.PyratCommentWeightProcedure) + \n",
    "    dj.Diagram(streams.WeightScaleWeightFiltered) + \n",
    "    dj.Diagram(streams.Device) + \n",
    "    dj.Diagram(streams.UndergroundFeeder) + \n",
    "    dj.Diagram(qc.CameraQC) +\n",
    "    dj.Diagram(tracking.SLEAPTracking)\n",
    ") - 1\n",
    "\n",
    "data_stream_diagram"
   ]
  },
  {
   "cell_type": "code",
   "execution_count": null,
   "id": "fc5e04ff",
   "metadata": {},
   "outputs": [],
   "source": [
    "data_stream_diagram.save(\"aeon/dj_pipeline/docs/datajoint_overview_data_stream_diagram.svg\")"
   ]
  },
  {
   "cell_type": "markdown",
   "id": "ff290db9",
   "metadata": {},
   "source": [
    "# Analysis pipeline diagram"
   ]
  },
  {
   "cell_type": "code",
   "execution_count": null,
   "id": "ead30859",
   "metadata": {},
   "outputs": [],
   "source": [
    "# analysis tables\n",
    "analysis_diagram = (\n",
    "    dj.Diagram(analysis.Visit) +\n",
    "    dj.Diagram(analysis.OverlapVisit.Visit) +\n",
    "    dj.Diagram(block_analysis.Block) +\n",
    "    dj.Diagram(block_analysis.BlockAnalysis) +\n",
    "    dj.Diagram(block_analysis.BlockSubjectAnalysis.Preference) +\n",
    "    dj.Diagram(block_analysis.BlockForaging) +\n",
    "    dj.Diagram(block_analysis.BlockPatchPlots) +\n",
    "    dj.Diagram(block_analysis.BlockSubjectPositionPlots) \n",
    ") - 1\n",
    "\n",
    "analysis_diagram"
   ]
  },
  {
   "cell_type": "code",
   "execution_count": null,
   "id": "56a3b461",
   "metadata": {},
   "outputs": [],
   "source": [
    "analysis_diagram.save(\"aeon/dj_pipeline/docs/datajoint_analysis_diagram.svg\")"
   ]
  },
  {
   "cell_type": "code",
   "execution_count": null,
   "id": "fd2745c0",
   "metadata": {},
   "outputs": [],
   "source": [
    "ls aeon/dj_pipeline/docs/"
   ]
  }
 ],
 "metadata": {
  "interpreter": {
   "hash": "7ed711d4bdc79410f4b0af3133fc7149926181ad66d1f6e8bc74e4f5ae156023"
  },
  "kernelspec": {
   "display_name": "Python 3 (ipykernel)",
   "language": "python",
   "name": "python3"
  },
  "language_info": {
   "codemirror_mode": {
    "name": "ipython",
    "version": 3
   },
   "file_extension": ".py",
   "mimetype": "text/x-python",
   "name": "python",
   "nbconvert_exporter": "python",
   "pygments_lexer": "ipython3",
   "version": "3.9.9"
  }
 },
 "nbformat": 4,
 "nbformat_minor": 5
}
